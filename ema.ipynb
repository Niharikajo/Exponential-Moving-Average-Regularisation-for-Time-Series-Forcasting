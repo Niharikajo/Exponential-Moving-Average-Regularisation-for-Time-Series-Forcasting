{
  "nbformat": 4,
  "nbformat_minor": 0,
  "metadata": {
    "colab": {
      "provenance": [],
      "authorship_tag": "ABX9TyO7zDOQta5lXctA3uI6dSAT",
      "include_colab_link": true
    },
    "kernelspec": {
      "name": "python3",
      "display_name": "Python 3"
    },
    "language_info": {
      "name": "python"
    },
    "accelerator": "GPU",
    "gpuClass": "standard"
  },
  "cells": [
    {
      "cell_type": "markdown",
      "metadata": {
        "id": "view-in-github",
        "colab_type": "text"
      },
      "source": [
        "<a href=\"https://colab.research.google.com/github/Niharikajo/Exponential-Moving-Average-Regularisation-for-Time-Series-Forcasting/blob/main/ema.ipynb\" target=\"_parent\"><img src=\"https://colab.research.google.com/assets/colab-badge.svg\" alt=\"Open In Colab\"/></a>"
      ]
    },
    {
      "cell_type": "markdown",
      "source": [
        "Mounting Drive"
      ],
      "metadata": {
        "id": "bM7KTLVmJsy5"
      }
    },
    {
      "cell_type": "code",
      "source": [
        "from google.colab import drive\n",
        "drive.mount('/content/drive')"
      ],
      "metadata": {
        "colab": {
          "base_uri": "https://localhost:8080/"
        },
        "id": "PHIW1OVXTCvz",
        "outputId": "ad98fb11-6809-4015-efc8-20ab5fc6b23f"
      },
      "execution_count": 3,
      "outputs": [
        {
          "output_type": "stream",
          "name": "stdout",
          "text": [
            "Mounted at /content/drive\n",
            "Drive already mounted at /content/drive; to attempt to forcibly remount, call drive.mount(\"/content/drive\", force_remount=True).\n"
          ]
        }
      ]
    },
    {
      "cell_type": "markdown",
      "source": [
        "Change directory"
      ],
      "metadata": {
        "id": "6Oaf1ZOFJwCB"
      }
    },
    {
      "cell_type": "code",
      "source": [
        "%cd /content/drive/MyDrive/WaveBound-main"
      ],
      "metadata": {
        "colab": {
          "base_uri": "https://localhost:8080/"
        },
        "id": "7Uel-Yl1TEhl",
        "outputId": "eb1c86c9-65c6-45f8-87fe-f1d7cd7ab578"
      },
      "execution_count": 36,
      "outputs": [
        {
          "output_type": "stream",
          "name": "stdout",
          "text": [
            "/content/drive/MyDrive/WaveBound-main\n"
          ]
        }
      ]
    },
    {
      "cell_type": "code",
      "source": [
        "#autoformer\n",
        "!bash ./scripts/dataset4_Autoformer_M_96.sh"
      ],
      "metadata": {
        "colab": {
          "base_uri": "https://localhost:8080/"
        },
        "id": "IEWhBKi_sTQ5",
        "outputId": "20c13ed0-bae9-4d34-a1a2-333000b4bbc9"
      },
      "execution_count": 35,
      "outputs": [
        {
          "output_type": "stream",
          "name": "stdout",
          "text": [
            "[2023-01-02 08:56:19,666] Args in experiment:\n",
            "[2023-01-02 08:56:19,666] Namespace(activation='gelu', batch_size=32, c_out=3, checkpoint_dir='./save/checkpoints', d_ff=2048, d_layers=1, d_model=512, data='custom', data_path='dataset4.csv', dec_in=3, devices='0,1,2,3', distil=True, dropout=0.05, e_layers=2, ema_eval_model='target', ema_loss='BDFMSE', embed='timeF', enc_in=3, epsilon=0.01, exp_name='dataset4_Autoformer_M_96_96', factor=1, features='M', freq='h', gpu=0, itr=1, label_len=48, loss='MSE', lr=0.0001, lr_decay_factor=0.5, lradj='type1', model='Autoformer', moving_average_decay=0.99, moving_avg=25, n_heads=8, num_workers=8, optimizer='adam', output_attention=False, patience=3, pred_len=96, result_dir='./save/results', root_path='./dataset/ETT-small/', seq_len=96, standing_steps=100, start_iter=300, target='Voltage', train_epochs=6, use_amp=False, use_ema=False, use_gpu=True, use_multi_gpu=False)\n",
            "[2023-01-02 08:56:19,671] Use GPU: cuda:0\n",
            "[2023-01-02 08:56:21,589] train 2699\n",
            "[2023-01-02 08:56:21,645] valid 319\n",
            "[2023-01-02 08:56:21,728] test 730\n",
            "[2023-01-02 08:56:21,729] >>>>>>> training <<<<<<<<<<<<<<<<<<<<<<<<<<<<<<<<<\n",
            "[2023-01-02 08:56:34,122] Epoch: 1 cost time: 12.392047643661499\n",
            "[2023-01-02 08:56:36,830] Epoch: 1, Steps: 84 | Train Loss: 0.5013643 Vali Loss: 0.4404493 Test Loss: 0.5545689\n",
            "[2023-01-02 08:56:36,831] Validation loss decreased (inf --> 0.440449).  Saving model ...\n",
            "[2023-01-02 08:56:36,994] Updating learning rate to 0.0001\n",
            "[2023-01-02 08:56:47,834] Epoch: 2 cost time: 10.839031219482422\n",
            "[2023-01-02 08:56:50,574] Epoch: 2, Steps: 84 | Train Loss: 0.1535642 Vali Loss: 0.8074772 Test Loss: 0.8518132\n",
            "[2023-01-02 08:56:50,574] EarlyStopping counter: 1 out of 3\n",
            "[2023-01-02 08:56:50,574] Updating learning rate to 5e-05\n",
            "[2023-01-02 08:57:01,607] Epoch: 3 cost time: 11.032312631607056\n",
            "[2023-01-02 08:57:04,352] Epoch: 3, Steps: 84 | Train Loss: 0.1120796 Vali Loss: 0.7993638 Test Loss: 0.8665883\n",
            "[2023-01-02 08:57:04,353] EarlyStopping counter: 2 out of 3\n",
            "[2023-01-02 08:57:04,353] Updating learning rate to 2.5e-05\n",
            "[2023-01-02 08:57:15,570] Epoch: 4 cost time: 11.216500043869019\n",
            "[2023-01-02 08:57:18,347] Epoch: 4, Steps: 84 | Train Loss: 0.0975499 Vali Loss: 0.7858967 Test Loss: 0.8676325\n",
            "[2023-01-02 08:57:18,348] EarlyStopping counter: 3 out of 3\n",
            "[2023-01-02 08:57:18,348] Early stopping\n",
            "[2023-01-02 08:57:18,349] >>>>>>> testing <<<<<<<<<<<<<<<<<<<<<<<<<<<<<<<<<\n",
            "[2023-01-02 08:57:18,349] loading model\n",
            "[2023-01-02 08:57:19,478] Phase: valid - pred shape: (319, 96, 3)\n",
            "[2023-01-02 08:57:19,480] Phase: valid - MSE: 0.4404493272304535, MAE: 0.4785069227218628, RMSE: 0.6636635661125183, MAPE: 2.1309282779693604, MSPE: 87.87810516357422\n",
            "[2023-01-02 08:57:19,515] loading model\n",
            "[2023-01-02 08:57:21,378] Phase: test - pred shape: (730, 96, 3)\n",
            "[2023-01-02 08:57:21,381] Phase: test - MSE: 0.5545688271522522, MAE: 0.5579273700714111, RMSE: 0.7446937561035156, MAPE: 5.341494083404541, MSPE: 24284.455078125\n"
          ]
        }
      ]
    },
    {
      "cell_type": "code",
      "source": [
        "#autoformer+ema\n",
        "!bash ./scripts/dataset4_Autoformer+EMA_M_96.sh"
      ],
      "metadata": {
        "colab": {
          "base_uri": "https://localhost:8080/"
        },
        "id": "uKlf11pOTaIk",
        "outputId": "bb525e9d-8fa0-45ed-a3c2-ae227ba3adcc"
      },
      "execution_count": 24,
      "outputs": [
        {
          "output_type": "stream",
          "name": "stdout",
          "text": [
            "[2023-01-02 08:47:10,079] Args in experiment:\n",
            "[2023-01-02 08:47:10,079] Namespace(activation='gelu', batch_size=32, c_out=3, checkpoint_dir='./save/checkpoints', d_ff=2048, d_layers=1, d_model=512, data='custom', data_path='dataset4.csv', dec_in=3, devices='0,1,2,3', distil=True, dropout=0.05, e_layers=2, ema_eval_model='target', ema_loss='BDFMSE', embed='timeF', enc_in=3, epsilon=0.001, exp_name='dataset4_Autoformer+EMA_M_96_96', factor=1, features='M', freq='h', gpu=0, itr=1, label_len=48, loss='MSE', lr=0.0003, lr_decay_factor=0.5, lradj='no', model='Autoformer', moving_average_decay=0.99, moving_avg=25, n_heads=8, num_workers=8, optimizer='adam', output_attention=False, patience=3, pred_len=96, result_dir='./save/results', root_path='./dataset/ETT-small/', seq_len=96, standing_steps=100, start_iter=300, target='Voltage', train_epochs=6, use_amp=False, use_ema=True, use_gpu=True, use_multi_gpu=False)\n",
            "[2023-01-02 08:47:10,084] Use GPU: cuda:0\n",
            "[2023-01-02 08:47:12,191] train 2699\n",
            "[2023-01-02 08:47:12,244] valid 319\n",
            "[2023-01-02 08:47:12,329] test 730\n",
            "[2023-01-02 08:47:12,329] >>>>>>> training <<<<<<<<<<<<<<<<<<<<<<<<<<<<<<<<<\n",
            "[2023-01-02 08:47:24,967] Epoch: 1 cost time: 12.637025833129883\n",
            "[2023-01-02 08:47:33,198] Epoch: 1, Steps: 84 | Train Loss: 0.4627035 Vali Loss: 0.8003760 Test Loss: 0.8700752\n",
            "[2023-01-02 08:47:33,199] Validation loss decreased (inf --> 0.800376).  Saving model ...\n",
            "[2023-01-02 08:47:44,628] Epoch: 2 cost time: 11.202499866485596\n",
            "[2023-01-02 08:47:52,429] Epoch: 2, Steps: 84 | Train Loss: 0.2073898 Vali Loss: 0.8010959 Test Loss: 0.8417770\n",
            "[2023-01-02 08:47:52,430] EarlyStopping counter: 1 out of 3\n",
            "[2023-01-02 08:48:03,741] Epoch: 3 cost time: 11.310394048690796\n",
            "[2023-01-02 08:48:11,503] Epoch: 3, Steps: 84 | Train Loss: 0.1038287 Vali Loss: 0.5352428 Test Loss: 0.6053939\n",
            "[2023-01-02 08:48:11,503] Validation loss decreased (0.800376 --> 0.535243).  Saving model ...\n",
            "[2023-01-02 08:48:24,344] Epoch: 4 cost time: 12.656445741653442\n",
            "[2023-01-02 08:48:32,037] Epoch: 4, Steps: 84 | Train Loss: 0.0474656 Vali Loss: 0.4005907 Test Loss: 0.4686334\n",
            "[2023-01-02 08:48:32,037] Validation loss decreased (0.535243 --> 0.400591).  Saving model ...\n",
            "[2023-01-02 08:48:46,705] Epoch: 5 cost time: 14.480738401412964\n",
            "[2023-01-02 08:48:54,385] Epoch: 5, Steps: 84 | Train Loss: 0.0127174 Vali Loss: 0.3300266 Test Loss: 0.4012538\n",
            "[2023-01-02 08:48:54,386] Validation loss decreased (0.400591 --> 0.330027).  Saving model ...\n",
            "[2023-01-02 08:49:09,131] Epoch: 6 cost time: 14.555259704589844\n",
            "[2023-01-02 08:49:16,852] Epoch: 6, Steps: 84 | Train Loss: 0.0117821 Vali Loss: 0.3259230 Test Loss: 0.3968940\n",
            "[2023-01-02 08:49:16,852] Validation loss decreased (0.330027 --> 0.325923).  Saving model ...\n",
            "[2023-01-02 08:49:17,033] >>>>>>> testing <<<<<<<<<<<<<<<<<<<<<<<<<<<<<<<<<\n",
            "[2023-01-02 08:49:17,033] loading model\n",
            "[2023-01-02 08:49:18,180] Phase: valid - pred shape: (319, 96, 3)\n",
            "[2023-01-02 08:49:18,182] Phase: valid - MSE: 0.3259229362010956, MAE: 0.37308865785598755, RMSE: 0.5708966255187988, MAPE: 1.4529802799224854, MSPE: 48.17760467529297\n",
            "[2023-01-02 08:49:18,203] loading model\n",
            "[2023-01-02 08:49:20,083] Phase: test - pred shape: (730, 96, 3)\n",
            "[2023-01-02 08:49:20,087] Phase: test - MSE: 0.3968939781188965, MAE: 0.42744073271751404, RMSE: 0.6299952268600464, MAPE: 3.036726713180542, MSPE: 5893.4375\n"
          ]
        }
      ]
    },
    {
      "cell_type": "code",
      "source": [
        "#informer\n",
        "!bash ./scripts/dataset4_informer_M_96.sh\n"
      ],
      "metadata": {
        "colab": {
          "base_uri": "https://localhost:8080/"
        },
        "id": "9NtUM4ZTuUQh",
        "outputId": "21929247-eca8-4414-a742-ef9c4b504ff7"
      },
      "execution_count": 38,
      "outputs": [
        {
          "output_type": "stream",
          "name": "stdout",
          "text": [
            "[2023-01-02 09:05:51,516] Args in experiment:\n",
            "[2023-01-02 09:05:51,516] Namespace(activation='gelu', batch_size=32, c_out=3, checkpoint_dir='./save/checkpoints', d_ff=2048, d_layers=1, d_model=512, data='custom', data_path='dataset4.csv', dec_in=3, devices='0,1,2,3', distil=True, dropout=0.05, e_layers=2, ema_eval_model='target', ema_loss='BDFMSE', embed='timeF', enc_in=3, epsilon=0.01, exp_name='dataset4_informer_M_96_96', factor=1, features='M', freq='h', gpu=0, itr=1, label_len=48, loss='MSE', lr=0.0001, lr_decay_factor=0.5, lradj='type1', model='Informer', moving_average_decay=0.99, moving_avg=25, n_heads=8, num_workers=8, optimizer='adam', output_attention=False, patience=3, pred_len=96, result_dir='./save/results', root_path='./dataset/ETT-small/', seq_len=96, standing_steps=100, start_iter=300, target='Voltage', train_epochs=6, use_amp=False, use_ema=False, use_gpu=True, use_multi_gpu=False)\n",
            "[2023-01-02 09:05:51,536] Use GPU: cuda:0\n",
            "[2023-01-02 09:05:53,435] train 2699\n",
            "[2023-01-02 09:05:53,491] valid 319\n",
            "[2023-01-02 09:05:53,582] test 730\n",
            "[2023-01-02 09:05:53,582] >>>>>>> training <<<<<<<<<<<<<<<<<<<<<<<<<<<<<<<<<\n",
            "[2023-01-02 09:06:03,404] Epoch: 1 cost time: 9.821192979812622\n",
            "[2023-01-02 09:06:05,264] Epoch: 1, Steps: 84 | Train Loss: 0.3041935 Vali Loss: 0.1690317 Test Loss: 0.2014701\n",
            "[2023-01-02 09:06:05,264] Validation loss decreased (inf --> 0.169032).  Saving model ...\n",
            "[2023-01-02 09:06:05,430] Updating learning rate to 0.0001\n",
            "[2023-01-02 09:06:13,630] Epoch: 2 cost time: 8.199347496032715\n",
            "[2023-01-02 09:06:15,539] Epoch: 2, Steps: 84 | Train Loss: 0.1352916 Vali Loss: 0.0852154 Test Loss: 0.1325230\n",
            "[2023-01-02 09:06:15,540] Validation loss decreased (0.169032 --> 0.085215).  Saving model ...\n",
            "[2023-01-02 09:06:15,722] Updating learning rate to 5e-05\n",
            "[2023-01-02 09:06:23,747] Epoch: 3 cost time: 8.022672653198242\n",
            "[2023-01-02 09:06:25,642] Epoch: 3, Steps: 84 | Train Loss: 0.0890917 Vali Loss: 0.0695108 Test Loss: 0.1296283\n",
            "[2023-01-02 09:06:25,642] Validation loss decreased (0.085215 --> 0.069511).  Saving model ...\n",
            "[2023-01-02 09:06:25,837] Updating learning rate to 2.5e-05\n",
            "[2023-01-02 09:06:33,915] Epoch: 4 cost time: 8.075742244720459\n",
            "[2023-01-02 09:06:35,859] Epoch: 4, Steps: 84 | Train Loss: 0.0768593 Vali Loss: 0.0624673 Test Loss: 0.1323056\n",
            "[2023-01-02 09:06:35,860] Validation loss decreased (0.069511 --> 0.062467).  Saving model ...\n",
            "[2023-01-02 09:06:36,035] Updating learning rate to 1.25e-05\n",
            "[2023-01-02 09:06:44,282] Epoch: 5 cost time: 8.24311375617981\n",
            "[2023-01-02 09:06:46,292] Epoch: 5, Steps: 84 | Train Loss: 0.0733885 Vali Loss: 0.0614151 Test Loss: 0.1381732\n",
            "[2023-01-02 09:06:46,292] Validation loss decreased (0.062467 --> 0.061415).  Saving model ...\n",
            "[2023-01-02 09:06:46,470] Updating learning rate to 6.25e-06\n",
            "[2023-01-02 09:06:54,749] Epoch: 6 cost time: 8.277160882949829\n",
            "[2023-01-02 09:06:56,754] Epoch: 6, Steps: 84 | Train Loss: 0.0711647 Vali Loss: 0.0595868 Test Loss: 0.1333160\n",
            "[2023-01-02 09:06:56,755] Validation loss decreased (0.061415 --> 0.059587).  Saving model ...\n",
            "[2023-01-02 09:06:56,946] Updating learning rate to 3.125e-06\n",
            "[2023-01-02 09:06:56,947] >>>>>>> testing <<<<<<<<<<<<<<<<<<<<<<<<<<<<<<<<<\n",
            "[2023-01-02 09:06:56,947] loading model\n",
            "[2023-01-02 09:06:57,808] Phase: valid - pred shape: (319, 96, 3)\n",
            "[2023-01-02 09:06:57,810] Phase: valid - MSE: 0.05930927023291588, MAE: 0.14345286786556244, RMSE: 0.24353495240211487, MAPE: 1.1933125257492065, MSPE: 45.199180603027344\n",
            "[2023-01-02 09:06:57,832] loading model\n",
            "[2023-01-02 09:06:59,115] Phase: test - pred shape: (730, 96, 3)\n",
            "[2023-01-02 09:06:59,119] Phase: test - MSE: 0.13345861434936523, MAE: 0.2083057016134262, RMSE: 0.3653198778629303, MAPE: 2.4981837272644043, MSPE: 3761.009521484375\n"
          ]
        }
      ]
    },
    {
      "cell_type": "code",
      "source": [
        "#informer+ema\n",
        "!bash ./scripts/dataset4_Informer+EMA_M_96.sh"
      ],
      "metadata": {
        "colab": {
          "base_uri": "https://localhost:8080/"
        },
        "id": "QtSZPeZHvcFg",
        "outputId": "5b53ae1c-8d76-44e4-f4bd-99ddc4fc6653"
      },
      "execution_count": 39,
      "outputs": [
        {
          "output_type": "stream",
          "name": "stdout",
          "text": [
            "[2023-01-02 09:09:35,271] Args in experiment:\n",
            "[2023-01-02 09:09:35,271] Namespace(activation='gelu', batch_size=32, c_out=3, checkpoint_dir='./save/checkpoints', d_ff=2048, d_layers=1, d_model=512, data='custom', data_path='dataset4.csv', dec_in=3, devices='0,1,2,3', distil=True, dropout=0.05, e_layers=2, ema_eval_model='target', ema_loss='BDFMSE', embed='timeF', enc_in=3, epsilon=0.001, exp_name='dataset4_Informer+EMA_M_96_96', factor=1, features='M', freq='h', gpu=0, itr=1, label_len=48, loss='MSE', lr=0.0003, lr_decay_factor=0.5, lradj='no', model='Informer', moving_average_decay=0.99, moving_avg=25, n_heads=8, num_workers=8, optimizer='adam', output_attention=False, patience=3, pred_len=96, result_dir='./save/results', root_path='./dataset/ETT-small/', seq_len=96, standing_steps=100, start_iter=300, target='Voltage', train_epochs=6, use_amp=False, use_ema=True, use_gpu=True, use_multi_gpu=False)\n",
            "[2023-01-02 09:09:35,278] Use GPU: cuda:0\n",
            "[2023-01-02 09:09:37,369] train 2699\n",
            "[2023-01-02 09:09:37,424] valid 319\n",
            "[2023-01-02 09:09:37,508] test 730\n",
            "[2023-01-02 09:09:37,508] >>>>>>> training <<<<<<<<<<<<<<<<<<<<<<<<<<<<<<<<<\n",
            "[2023-01-02 09:09:47,430] Epoch: 1 cost time: 9.9200439453125\n",
            "[2023-01-02 09:09:53,239] Epoch: 1, Steps: 84 | Train Loss: 0.2507492 Vali Loss: 0.0879262 Test Loss: 0.1177271\n",
            "[2023-01-02 09:09:53,239] Validation loss decreased (inf --> 0.087926).  Saving model ...\n",
            "[2023-01-02 09:10:01,674] Epoch: 2 cost time: 8.262555360794067\n",
            "[2023-01-02 09:10:07,527] Epoch: 2, Steps: 84 | Train Loss: 0.0896142 Vali Loss: 0.0629247 Test Loss: 0.1147419\n",
            "[2023-01-02 09:10:07,528] Validation loss decreased (0.087926 --> 0.062925).  Saving model ...\n",
            "[2023-01-02 09:10:16,038] Epoch: 3 cost time: 8.333494901657104\n",
            "[2023-01-02 09:10:22,034] Epoch: 3, Steps: 84 | Train Loss: 0.0720649 Vali Loss: 0.0608323 Test Loss: 0.1320065\n",
            "[2023-01-02 09:10:22,034] Validation loss decreased (0.062925 --> 0.060832).  Saving model ...\n",
            "[2023-01-02 09:10:31,837] Epoch: 4 cost time: 9.619174480438232\n",
            "[2023-01-02 09:10:37,810] Epoch: 4, Steps: 84 | Train Loss: 0.0447201 Vali Loss: 0.0534513 Test Loss: 0.1549239\n",
            "[2023-01-02 09:10:37,811] Validation loss decreased (0.060832 --> 0.053451).  Saving model ...\n",
            "[2023-01-02 09:10:49,029] Epoch: 5 cost time: 11.034898281097412\n",
            "[2023-01-02 09:10:54,945] Epoch: 5, Steps: 84 | Train Loss: 0.0172203 Vali Loss: 0.0501047 Test Loss: 0.1493587\n",
            "[2023-01-02 09:10:54,945] Validation loss decreased (0.053451 --> 0.050105).  Saving model ...\n",
            "[2023-01-02 09:11:05,988] Epoch: 6 cost time: 10.857179880142212\n",
            "[2023-01-02 09:11:11,816] Epoch: 6, Steps: 84 | Train Loss: 0.0158536 Vali Loss: 0.0490101 Test Loss: 0.1468766\n",
            "[2023-01-02 09:11:11,817] Validation loss decreased (0.050105 --> 0.049010).  Saving model ...\n",
            "[2023-01-02 09:11:11,994] >>>>>>> testing <<<<<<<<<<<<<<<<<<<<<<<<<<<<<<<<<\n",
            "[2023-01-02 09:11:11,994] loading model\n",
            "[2023-01-02 09:11:12,893] Phase: valid - pred shape: (319, 96, 3)\n",
            "[2023-01-02 09:11:12,896] Phase: valid - MSE: 0.048896510154008865, MAE: 0.11259309947490692, RMSE: 0.2211255580186844, MAPE: 1.011598825454712, MSPE: 33.40800094604492\n",
            "[2023-01-02 09:11:12,931] loading model\n",
            "[2023-01-02 09:11:14,191] Phase: test - pred shape: (730, 96, 3)\n",
            "[2023-01-02 09:11:14,194] Phase: test - MSE: 0.14620597660541534, MAE: 0.18642427027225494, RMSE: 0.38236889243125916, MAPE: 2.2127814292907715, MSPE: 1980.719482421875\n"
          ]
        }
      ]
    },
    {
      "cell_type": "code",
      "source": [
        "#Transformer\n",
        "!bash ./scripts/dataset4_Transformerr_M_96.sh"
      ],
      "metadata": {
        "colab": {
          "base_uri": "https://localhost:8080/"
        },
        "id": "XLI2QBI3xEZZ",
        "outputId": "51e2e461-d37c-4951-f117-b87dd04ba7b9"
      },
      "execution_count": 41,
      "outputs": [
        {
          "output_type": "stream",
          "name": "stdout",
          "text": [
            "[2023-01-02 09:17:15,352] Args in experiment:\n",
            "[2023-01-02 09:17:15,352] Namespace(activation='gelu', batch_size=32, c_out=3, checkpoint_dir='./save/checkpoints', d_ff=2048, d_layers=1, d_model=512, data='custom', data_path='dataset4.csv', dec_in=3, devices='0,1,2,3', distil=True, dropout=0.05, e_layers=2, ema_eval_model='target', ema_loss='BDFMSE', embed='timeF', enc_in=3, epsilon=0.01, exp_name='dataset4_Transformerr_M_96_96', factor=1, features='M', freq='h', gpu=0, itr=1, label_len=48, loss='MSE', lr=0.0001, lr_decay_factor=0.5, lradj='type1', model='Transformer', moving_average_decay=0.99, moving_avg=25, n_heads=8, num_workers=8, optimizer='adam', output_attention=False, patience=3, pred_len=96, result_dir='./save/results', root_path='./dataset/ETT-small/', seq_len=96, standing_steps=100, start_iter=300, target='Voltage', train_epochs=6, use_amp=False, use_ema=False, use_gpu=True, use_multi_gpu=False)\n",
            "[2023-01-02 09:17:15,358] Use GPU: cuda:0\n",
            "[2023-01-02 09:17:17,260] train 2699\n",
            "[2023-01-02 09:17:17,314] valid 319\n",
            "[2023-01-02 09:17:17,402] test 730\n",
            "[2023-01-02 09:17:17,403] >>>>>>> training <<<<<<<<<<<<<<<<<<<<<<<<<<<<<<<<<\n",
            "[2023-01-02 09:17:27,278] Epoch: 1 cost time: 9.874207973480225\n",
            "[2023-01-02 09:17:29,183] Epoch: 1, Steps: 84 | Train Loss: 0.4730699 Vali Loss: 0.1314750 Test Loss: 0.2085492\n",
            "[2023-01-02 09:17:29,184] Validation loss decreased (inf --> 0.131475).  Saving model ...\n",
            "[2023-01-02 09:17:29,340] Updating learning rate to 0.0001\n",
            "[2023-01-02 09:17:37,669] Epoch: 2 cost time: 8.328687191009521\n",
            "[2023-01-02 09:17:39,587] Epoch: 2, Steps: 84 | Train Loss: 0.1017059 Vali Loss: 0.0596285 Test Loss: 0.1094745\n",
            "[2023-01-02 09:17:39,587] Validation loss decreased (0.131475 --> 0.059628).  Saving model ...\n",
            "[2023-01-02 09:17:39,774] Updating learning rate to 5e-05\n",
            "[2023-01-02 09:17:48,565] Epoch: 3 cost time: 8.789893388748169\n",
            "[2023-01-02 09:17:50,513] Epoch: 3, Steps: 84 | Train Loss: 0.0704960 Vali Loss: 0.0501745 Test Loss: 0.0986809\n",
            "[2023-01-02 09:17:50,514] Validation loss decreased (0.059628 --> 0.050174).  Saving model ...\n",
            "[2023-01-02 09:17:50,687] Updating learning rate to 2.5e-05\n",
            "[2023-01-02 09:17:59,283] Epoch: 4 cost time: 8.595287322998047\n",
            "[2023-01-02 09:18:01,306] Epoch: 4, Steps: 84 | Train Loss: 0.0618409 Vali Loss: 0.0466707 Test Loss: 0.0962242\n",
            "[2023-01-02 09:18:01,306] Validation loss decreased (0.050174 --> 0.046671).  Saving model ...\n",
            "[2023-01-02 09:18:01,500] Updating learning rate to 1.25e-05\n",
            "[2023-01-02 09:18:10,140] Epoch: 5 cost time: 8.63973355293274\n",
            "[2023-01-02 09:18:12,207] Epoch: 5, Steps: 84 | Train Loss: 0.0588157 Vali Loss: 0.0446835 Test Loss: 0.0934442\n",
            "[2023-01-02 09:18:12,207] Validation loss decreased (0.046671 --> 0.044683).  Saving model ...\n",
            "[2023-01-02 09:18:12,380] Updating learning rate to 6.25e-06\n",
            "[2023-01-02 09:18:21,031] Epoch: 6 cost time: 8.65032410621643\n",
            "[2023-01-02 09:18:23,037] Epoch: 6, Steps: 84 | Train Loss: 0.0569594 Vali Loss: 0.0431203 Test Loss: 0.0920940\n",
            "[2023-01-02 09:18:23,038] Validation loss decreased (0.044683 --> 0.043120).  Saving model ...\n",
            "[2023-01-02 09:18:23,225] Updating learning rate to 3.125e-06\n",
            "[2023-01-02 09:18:23,227] >>>>>>> testing <<<<<<<<<<<<<<<<<<<<<<<<<<<<<<<<<\n",
            "[2023-01-02 09:18:23,230] loading model\n",
            "[2023-01-02 09:18:24,120] Phase: valid - pred shape: (319, 96, 3)\n",
            "[2023-01-02 09:18:24,123] Phase: valid - MSE: 0.04312029108405113, MAE: 0.11911755800247192, RMSE: 0.20765425264835358, MAPE: 1.1118109226226807, MSPE: 41.9107666015625\n",
            "[2023-01-02 09:18:24,143] loading model\n",
            "[2023-01-02 09:18:25,430] Phase: test - pred shape: (730, 96, 3)\n",
            "[2023-01-02 09:18:25,435] Phase: test - MSE: 0.0920940414071083, MAE: 0.1748669445514679, RMSE: 0.30347001552581787, MAPE: 2.3010427951812744, MSPE: 2050.430419921875\n"
          ]
        }
      ]
    },
    {
      "cell_type": "code",
      "source": [
        "#Transformer+ema\n",
        "!bash  ./scripts/dataset4_Transformer+EMA_M_96.sh"
      ],
      "metadata": {
        "colab": {
          "base_uri": "https://localhost:8080/"
        },
        "id": "-iiby_1MwkVA",
        "outputId": "5717b817-17ff-494c-b47b-e41dff373326"
      },
      "execution_count": 42,
      "outputs": [
        {
          "output_type": "stream",
          "name": "stdout",
          "text": [
            "[2023-01-02 09:21:13,454] Args in experiment:\n",
            "[2023-01-02 09:21:13,457] Namespace(activation='gelu', batch_size=32, c_out=3, checkpoint_dir='./save/checkpoints', d_ff=2048, d_layers=1, d_model=512, data='custom', data_path='dataset4.csv', dec_in=3, devices='0,1,2,3', distil=True, dropout=0.05, e_layers=2, ema_eval_model='target', ema_loss='BDFMSE', embed='timeF', enc_in=3, epsilon=0.001, exp_name='dataset4_Transformer+EMA_M_96_96', factor=1, features='M', freq='h', gpu=0, itr=1, label_len=48, loss='MSE', lr=0.0003, lr_decay_factor=0.5, lradj='no', model='Transformer', moving_average_decay=0.99, moving_avg=25, n_heads=8, num_workers=8, optimizer='adam', output_attention=False, patience=3, pred_len=96, result_dir='./save/results', root_path='./dataset/ETT-small/', seq_len=96, standing_steps=100, start_iter=300, target='Voltage', train_epochs=6, use_amp=False, use_ema=True, use_gpu=True, use_multi_gpu=False)\n",
            "[2023-01-02 09:21:13,462] Use GPU: cuda:0\n",
            "[2023-01-02 09:21:15,500] train 2699\n",
            "[2023-01-02 09:21:15,552] valid 319\n",
            "[2023-01-02 09:21:15,635] test 730\n",
            "[2023-01-02 09:21:15,636] >>>>>>> training <<<<<<<<<<<<<<<<<<<<<<<<<<<<<<<<<\n",
            "[2023-01-02 09:21:25,629] Epoch: 1 cost time: 9.99243688583374\n",
            "[2023-01-02 09:21:31,481] Epoch: 1, Steps: 84 | Train Loss: 0.5431859 Vali Loss: 0.1020091 Test Loss: 0.1282127\n",
            "[2023-01-02 09:21:31,481] Validation loss decreased (inf --> 0.102009).  Saving model ...\n",
            "[2023-01-02 09:21:40,148] Epoch: 2 cost time: 8.503940105438232\n",
            "[2023-01-02 09:21:46,128] Epoch: 2, Steps: 84 | Train Loss: 0.0852556 Vali Loss: 0.0585509 Test Loss: 0.0943207\n",
            "[2023-01-02 09:21:46,128] Validation loss decreased (0.102009 --> 0.058551).  Saving model ...\n",
            "[2023-01-02 09:21:54,993] Epoch: 3 cost time: 8.693220615386963\n",
            "[2023-01-02 09:22:01,084] Epoch: 3, Steps: 84 | Train Loss: 0.0642002 Vali Loss: 0.0568688 Test Loss: 0.0943804\n",
            "[2023-01-02 09:22:01,084] Validation loss decreased (0.058551 --> 0.056869).  Saving model ...\n",
            "[2023-01-02 09:22:11,384] Epoch: 4 cost time: 10.126266241073608\n",
            "[2023-01-02 09:22:17,566] Epoch: 4, Steps: 84 | Train Loss: 0.0451550 Vali Loss: 0.0493017 Test Loss: 0.0826829\n",
            "[2023-01-02 09:22:17,567] Validation loss decreased (0.056869 --> 0.049302).  Saving model ...\n",
            "[2023-01-02 09:22:29,092] Epoch: 5 cost time: 11.350089311599731\n",
            "[2023-01-02 09:22:35,252] Epoch: 5, Steps: 84 | Train Loss: 0.0211585 Vali Loss: 0.0457889 Test Loss: 0.0787128\n",
            "[2023-01-02 09:22:35,253] Validation loss decreased (0.049302 --> 0.045789).  Saving model ...\n",
            "[2023-01-02 09:22:46,941] Epoch: 6 cost time: 11.373117923736572\n",
            "[2023-01-02 09:22:52,904] Epoch: 6, Steps: 84 | Train Loss: 0.0196585 Vali Loss: 0.0434929 Test Loss: 0.0746662\n",
            "[2023-01-02 09:22:52,905] Validation loss decreased (0.045789 --> 0.043493).  Saving model ...\n",
            "[2023-01-02 09:22:53,082] >>>>>>> testing <<<<<<<<<<<<<<<<<<<<<<<<<<<<<<<<<\n",
            "[2023-01-02 09:22:53,083] loading model\n",
            "[2023-01-02 09:22:53,978] Phase: valid - pred shape: (319, 96, 3)\n",
            "[2023-01-02 09:22:53,980] Phase: valid - MSE: 0.04349290207028389, MAE: 0.1101977527141571, RMSE: 0.20854951441287994, MAPE: 0.9279848337173462, MSPE: 31.154163360595703\n",
            "[2023-01-02 09:22:54,001] loading model\n",
            "[2023-01-02 09:22:55,293] Phase: test - pred shape: (730, 96, 3)\n",
            "[2023-01-02 09:22:55,297] Phase: test - MSE: 0.07466623187065125, MAE: 0.1469394415616989, RMSE: 0.2732512354850769, MAPE: 1.5163428783416748, MSPE: 531.177001953125\n"
          ]
        }
      ]
    },
    {
      "cell_type": "markdown",
      "source": [
        "Plotting\n"
      ],
      "metadata": {
        "id": "sYpDE6S3KCz3"
      }
    },
    {
      "cell_type": "code",
      "source": [
        "%cd /content/drive/MyDrive/WaveBound-main/save/checkpoints/dataset4_Autoformer+EMA_M_96_96/1"
      ],
      "metadata": {
        "colab": {
          "base_uri": "https://localhost:8080/"
        },
        "id": "AK78LR25YR5J",
        "outputId": "f46ce45b-29b2-4f1e-f6fc-955983e2a362"
      },
      "execution_count": 25,
      "outputs": [
        {
          "output_type": "stream",
          "name": "stdout",
          "text": [
            "/content/drive/MyDrive/WaveBound-main/save/checkpoints/dataset4_Autoformer+EMA_M_96_96/1\n"
          ]
        }
      ]
    },
    {
      "cell_type": "code",
      "source": [
        "import numpy as np\n",
        "preds = np.load('test_pred.npy')\n",
        "trues = np.load('test_true.npy')\n",
        "# [samples, pred_len, dimensions]\n",
        "import matplotlib.pyplot as plt\n",
        "import seaborn as sns"
      ],
      "metadata": {
        "id": "C5wNmlF8bywv"
      },
      "execution_count": 26,
      "outputs": []
    },
    {
      "cell_type": "code",
      "source": [
        "import matplotlib.pyplot as plt\n",
        "plt.figure()\n",
        "#current,charge_capacity,voltage\n",
        "plt.plot (trues[:,1,-1], label='GroundTruth')\n",
        "plt.plot (preds[:,1,-1], label='Prediction')\n",
        "plt.legend(loc='upper right');\n",
        "plt.xlabel('Index')\n",
        "plt.ylabel('Voltage (V)')\n",
        "#plt.yticks(np.arange(-4, 7, 1))\n",
        "#from google.colab import files\n",
        "#plt.savefig('Autoformer_mendeley_Charge_Capacity_pred_length_96_true.pdf')\n",
        "#files.download('Autoformer_mendeley_Charge_Capacity_pred_length_96_true.pdf')\n",
        "plt.show() # .4 .4"
      ],
      "metadata": {
        "colab": {
          "base_uri": "https://localhost:8080/",
          "height": 279
        },
        "id": "2D7cHCeAb7p0",
        "outputId": "c4008f88-0ac6-4659-9ce5-a436c4acf2be"
      },
      "execution_count": 32,
      "outputs": [
        {
          "output_type": "display_data",
          "data": {
            "text/plain": [
              "<Figure size 432x288 with 1 Axes>"
            ],
            "image/png": "[encoded data removed]"
          },
          "metadata": {
            "needs_background": "light"
          }
        }
      ]
    }
  ]
}